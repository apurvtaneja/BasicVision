{
  "nbformat": 4,
  "nbformat_minor": 0,
  "metadata": {
    "colab": {
      "name": "BasicVisionEvaluation (1).ipynb",
      "provenance": [],
      "collapsed_sections": [],
      "include_colab_link": true
    },
    "kernelspec": {
      "name": "python3",
      "display_name": "Python 3"
    },
    "language_info": {
      "name": "python"
    },
    "accelerator": "GPU",
    "widgets": {
      "application/vnd.jupyter.widget-state+json": {
        "79f13a1c714045fc92e591c70905f672": {
          "model_module": "@jupyter-widgets/controls",
          "model_name": "VBoxModel",
          "model_module_version": "1.5.0",
          "state": {
            "_dom_classes": [],
            "_model_module": "@jupyter-widgets/controls",
            "_model_module_version": "1.5.0",
            "_model_name": "VBoxModel",
            "_view_count": null,
            "_view_module": "@jupyter-widgets/controls",
            "_view_module_version": "1.5.0",
            "_view_name": "VBoxView",
            "box_style": "",
            "children": [
              "IPY_MODEL_8f09a92bf93b4745bae984d9c22acdb8",
              "IPY_MODEL_d20946eba0e94b2690d61b094ca75185"
            ],
            "layout": "IPY_MODEL_5ced664925374030a4a1ba5042a27b2f"
          }
        },
        "8f09a92bf93b4745bae984d9c22acdb8": {
          "model_module": "@jupyter-widgets/controls",
          "model_name": "LabelModel",
          "model_module_version": "1.5.0",
          "state": {
            "_dom_classes": [],
            "_model_module": "@jupyter-widgets/controls",
            "_model_module_version": "1.5.0",
            "_model_name": "LabelModel",
            "_view_count": null,
            "_view_module": "@jupyter-widgets/controls",
            "_view_module_version": "1.5.0",
            "_view_name": "LabelView",
            "description": "",
            "description_tooltip": null,
            "layout": "IPY_MODEL_2518a20e23ab4599b431c27130a088f7",
            "placeholder": "​",
            "style": "IPY_MODEL_1d6f8abee4364ceab2fd6683b0c2543c",
            "value": "0.009 MB of 0.009 MB uploaded (0.000 MB deduped)\r"
          }
        },
        "d20946eba0e94b2690d61b094ca75185": {
          "model_module": "@jupyter-widgets/controls",
          "model_name": "FloatProgressModel",
          "model_module_version": "1.5.0",
          "state": {
            "_dom_classes": [],
            "_model_module": "@jupyter-widgets/controls",
            "_model_module_version": "1.5.0",
            "_model_name": "FloatProgressModel",
            "_view_count": null,
            "_view_module": "@jupyter-widgets/controls",
            "_view_module_version": "1.5.0",
            "_view_name": "ProgressView",
            "bar_style": "",
            "description": "",
            "description_tooltip": null,
            "layout": "IPY_MODEL_c72d07157ac44bd6a26edc6c84c09499",
            "max": 1,
            "min": 0,
            "orientation": "horizontal",
            "style": "IPY_MODEL_48f3ae94919b426a8fa1166547ffc212",
            "value": 1
          }
        },
        "5ced664925374030a4a1ba5042a27b2f": {
          "model_module": "@jupyter-widgets/base",
          "model_name": "LayoutModel",
          "model_module_version": "1.2.0",
          "state": {
            "_model_module": "@jupyter-widgets/base",
            "_model_module_version": "1.2.0",
            "_model_name": "LayoutModel",
            "_view_count": null,
            "_view_module": "@jupyter-widgets/base",
            "_view_module_version": "1.2.0",
            "_view_name": "LayoutView",
            "align_content": null,
            "align_items": null,
            "align_self": null,
            "border": null,
            "bottom": null,
            "display": null,
            "flex": null,
            "flex_flow": null,
            "grid_area": null,
            "grid_auto_columns": null,
            "grid_auto_flow": null,
            "grid_auto_rows": null,
            "grid_column": null,
            "grid_gap": null,
            "grid_row": null,
            "grid_template_areas": null,
            "grid_template_columns": null,
            "grid_template_rows": null,
            "height": null,
            "justify_content": null,
            "justify_items": null,
            "left": null,
            "margin": null,
            "max_height": null,
            "max_width": null,
            "min_height": null,
            "min_width": null,
            "object_fit": null,
            "object_position": null,
            "order": null,
            "overflow": null,
            "overflow_x": null,
            "overflow_y": null,
            "padding": null,
            "right": null,
            "top": null,
            "visibility": null,
            "width": null
          }
        },
        "2518a20e23ab4599b431c27130a088f7": {
          "model_module": "@jupyter-widgets/base",
          "model_name": "LayoutModel",
          "model_module_version": "1.2.0",
          "state": {
            "_model_module": "@jupyter-widgets/base",
            "_model_module_version": "1.2.0",
            "_model_name": "LayoutModel",
            "_view_count": null,
            "_view_module": "@jupyter-widgets/base",
            "_view_module_version": "1.2.0",
            "_view_name": "LayoutView",
            "align_content": null,
            "align_items": null,
            "align_self": null,
            "border": null,
            "bottom": null,
            "display": null,
            "flex": null,
            "flex_flow": null,
            "grid_area": null,
            "grid_auto_columns": null,
            "grid_auto_flow": null,
            "grid_auto_rows": null,
            "grid_column": null,
            "grid_gap": null,
            "grid_row": null,
            "grid_template_areas": null,
            "grid_template_columns": null,
            "grid_template_rows": null,
            "height": null,
            "justify_content": null,
            "justify_items": null,
            "left": null,
            "margin": null,
            "max_height": null,
            "max_width": null,
            "min_height": null,
            "min_width": null,
            "object_fit": null,
            "object_position": null,
            "order": null,
            "overflow": null,
            "overflow_x": null,
            "overflow_y": null,
            "padding": null,
            "right": null,
            "top": null,
            "visibility": null,
            "width": null
          }
        },
        "1d6f8abee4364ceab2fd6683b0c2543c": {
          "model_module": "@jupyter-widgets/controls",
          "model_name": "DescriptionStyleModel",
          "model_module_version": "1.5.0",
          "state": {
            "_model_module": "@jupyter-widgets/controls",
            "_model_module_version": "1.5.0",
            "_model_name": "DescriptionStyleModel",
            "_view_count": null,
            "_view_module": "@jupyter-widgets/base",
            "_view_module_version": "1.2.0",
            "_view_name": "StyleView",
            "description_width": ""
          }
        },
        "c72d07157ac44bd6a26edc6c84c09499": {
          "model_module": "@jupyter-widgets/base",
          "model_name": "LayoutModel",
          "model_module_version": "1.2.0",
          "state": {
            "_model_module": "@jupyter-widgets/base",
            "_model_module_version": "1.2.0",
            "_model_name": "LayoutModel",
            "_view_count": null,
            "_view_module": "@jupyter-widgets/base",
            "_view_module_version": "1.2.0",
            "_view_name": "LayoutView",
            "align_content": null,
            "align_items": null,
            "align_self": null,
            "border": null,
            "bottom": null,
            "display": null,
            "flex": null,
            "flex_flow": null,
            "grid_area": null,
            "grid_auto_columns": null,
            "grid_auto_flow": null,
            "grid_auto_rows": null,
            "grid_column": null,
            "grid_gap": null,
            "grid_row": null,
            "grid_template_areas": null,
            "grid_template_columns": null,
            "grid_template_rows": null,
            "height": null,
            "justify_content": null,
            "justify_items": null,
            "left": null,
            "margin": null,
            "max_height": null,
            "max_width": null,
            "min_height": null,
            "min_width": null,
            "object_fit": null,
            "object_position": null,
            "order": null,
            "overflow": null,
            "overflow_x": null,
            "overflow_y": null,
            "padding": null,
            "right": null,
            "top": null,
            "visibility": null,
            "width": null
          }
        },
        "48f3ae94919b426a8fa1166547ffc212": {
          "model_module": "@jupyter-widgets/controls",
          "model_name": "ProgressStyleModel",
          "model_module_version": "1.5.0",
          "state": {
            "_model_module": "@jupyter-widgets/controls",
            "_model_module_version": "1.5.0",
            "_model_name": "ProgressStyleModel",
            "_view_count": null,
            "_view_module": "@jupyter-widgets/base",
            "_view_module_version": "1.2.0",
            "_view_name": "StyleView",
            "bar_color": null,
            "description_width": ""
          }
        }
      }
    }
  },
  "cells": [
    {
      "cell_type": "markdown",
      "metadata": {
        "id": "view-in-github",
        "colab_type": "text"
      },
      "source": [
        "<a href=\"https://colab.research.google.com/github/apurvtaneja/BasicVision/blob/main/BasicVisionEvaluation_(1).ipynb\" target=\"_parent\"><img src=\"https://colab.research.google.com/assets/colab-badge.svg\" alt=\"Open In Colab\"/></a>"
      ]
    },
    {
      "cell_type": "markdown",
      "source": [
        "# **Data Preprocessing**\n",
        "\n",
        "---\n"
      ],
      "metadata": {
        "id": "R1DE5SXDoeLA"
      }
    },
    {
      "cell_type": "code",
      "execution_count": null,
      "metadata": {
        "colab": {
          "base_uri": "https://localhost:8080/"
        },
        "id": "5p53wfEzGsae",
        "outputId": "03c4d84d-5548-4875-b872-caf52920cdbc"
      },
      "outputs": [
        {
          "output_type": "stream",
          "name": "stdout",
          "text": [
            "drive  output  sample_data\n"
          ]
        }
      ],
      "source": [
        "!ls"
      ]
    },
    {
      "cell_type": "code",
      "source": [
        "%cd /content/drive/MyDrive/BasicVisionEvaluation"
      ],
      "metadata": {
        "colab": {
          "base_uri": "https://localhost:8080/"
        },
        "id": "pn0pq2BJHE6u",
        "outputId": "cb7ecd1c-5bbb-455c-d428-d2c15079d1d5"
      },
      "execution_count": null,
      "outputs": [
        {
          "output_type": "stream",
          "name": "stdout",
          "text": [
            "/content/drive/.shortcut-targets-by-id/1_FGKLghJ2aApvppeFYxuAPPPF7anfw9u/BasicVisionEvaluation\n"
          ]
        }
      ]
    },
    {
      "cell_type": "code",
      "source": [
        "!pwd"
      ],
      "metadata": {
        "colab": {
          "base_uri": "https://localhost:8080/"
        },
        "id": "bos5Hag1TVns",
        "outputId": "1221c278-e3e7-4596-d0e0-56d078ef3932"
      },
      "execution_count": null,
      "outputs": [
        {
          "output_type": "stream",
          "name": "stdout",
          "text": [
            "/content\n"
          ]
        }
      ]
    },
    {
      "cell_type": "code",
      "source": [
        "!unzip \"/content/drive/MyDrive/BasicVisionEvaluation/Dataset_5.zip\" -d \"/content/drive/MyDrive/BasicVisionEvaluation/Dataset_5\""
      ],
      "metadata": {
        "id": "Lpsh0p4lMIDm",
        "colab": {
          "base_uri": "https://localhost:8080/"
        },
        "outputId": "a7eb7485-f860-44e6-a40c-f4e9a681dc8f"
      },
      "execution_count": null,
      "outputs": [
        {
          "output_type": "stream",
          "name": "stdout",
          "text": [
            "unzip:  cannot find or open /content/drive/MyDrive/BasicVisionEvaluation/Dataset_5.zip, /content/drive/MyDrive/BasicVisionEvaluation/Dataset_5.zip.zip or /content/drive/MyDrive/BasicVisionEvaluation/Dataset_5.zip.ZIP.\n"
          ]
        }
      ]
    },
    {
      "cell_type": "code",
      "source": [
        "!unzip \"/content/drive/MyDrive/BasicVisionEvaluation/Dataset_1-20220314T131453Z-001.zip\" -d \"/content/drive/MyDrive/BasicVisionEvaluation/Dataset_5\""
      ],
      "metadata": {
        "id": "GkUHmYg2MSlJ"
      },
      "execution_count": null,
      "outputs": []
    },
    {
      "cell_type": "code",
      "source": [
        "!unzip \"/content/drive/MyDrive/BasicVisionEvaluation/Dataset_2-20220314T131503Z-001.zip\" -d \"/content/drive/MyDrive/BasicVisionEvaluation/Dataset_5\""
      ],
      "metadata": {
        "id": "5eOuhwMvS7IZ"
      },
      "execution_count": null,
      "outputs": []
    },
    {
      "cell_type": "code",
      "source": [
        "!unzip \"/content/drive/MyDrive/BasicVisionEvaluation/Dataset_3-20220314T131456Z-001.zip\" -d \"/content/drive/MyDrive/BasicVisionEvaluation/Dataset_5\""
      ],
      "metadata": {
        "id": "wz-yJwJ2TDdv"
      },
      "execution_count": null,
      "outputs": []
    },
    {
      "cell_type": "code",
      "source": [
        "!unzip \"/content/drive/MyDrive/BasicVisionEvaluation/Dataset_4-20220314T131458Z-001.zip\" -d \"/content/drive/MyDrive/BasicVisionEvaluation/Dataset_5\""
      ],
      "metadata": {
        "id": "0S9sSVN2TKbi"
      },
      "execution_count": null,
      "outputs": []
    },
    {
      "cell_type": "markdown",
      "source": [
        "**1. Converting the Dataset from 1 to 4, for better understanding.**"
      ],
      "metadata": {
        "id": "novG4z4W6iWe"
      }
    },
    {
      "cell_type": "code",
      "source": [
        "import os\n",
        "from shutil import move\n",
        "\n",
        "folder = '/content/drive/MyDrive/BasicVisionEvaluation/Dataset_5/Dataset_'\n",
        "\n",
        "circle_path = \"/content/drive/MyDrive/BasicVisionEvaluation/Dataset_5/Dataset/Circle/\"\n",
        "cube_path = \"/content/drive/MyDrive/BasicVisionEvaluation/Dataset_5/Dataset/Cube/\"\n",
        "\n"
      ],
      "metadata": {
        "id": "kB3veno_TQA8"
      },
      "execution_count": null,
      "outputs": []
    },
    {
      "cell_type": "markdown",
      "source": [
        "**2. Circle images from Dataset 1 and 2**"
      ],
      "metadata": {
        "id": "an4-e8Xro6Ql"
      }
    },
    {
      "cell_type": "code",
      "source": [
        "os.makedirs(circle_path, exist_ok=True)\n",
        "\n",
        "cnt = 0\n",
        "for i in range(1,3):\n",
        "  for file in os.listdir(os.path.join(folder + str(i))):\n",
        "    newFileName = 'Circle_' + str(cnt) + '.jpg'\n",
        "    cnt = cnt + 1\n",
        "    move(os.path.join(folder + str(i), file), os.path.join(circle_path, newFileName))"
      ],
      "metadata": {
        "id": "V2FSfHfUVF-5"
      },
      "execution_count": null,
      "outputs": []
    },
    {
      "cell_type": "markdown",
      "source": [
        "**3. Cube Images from Dataset 3 and 4**"
      ],
      "metadata": {
        "id": "-DA96qDypJVA"
      }
    },
    {
      "cell_type": "code",
      "source": [
        "os.makedirs(cube_path, exist_ok=True)\n",
        "\n",
        "cnt = 0\n",
        "for i in range(3,5):\n",
        "  for file in os.listdir(os.path.join(folder + str(i))):\n",
        "    newFileName = 'Cube_' + str(cnt) + '.jpg'\n",
        "    cnt = cnt + 1\n",
        "    move(os.path.join(folder + str(i), file), os.path.join(cube_path, newFileName))"
      ],
      "metadata": {
        "id": "Arqi-v7ChfLU"
      },
      "execution_count": null,
      "outputs": []
    },
    {
      "cell_type": "markdown",
      "source": [
        "**4. Let's Augment the given Data from Dataset 1 to 4, Before Combining it with Dataset 5**"
      ],
      "metadata": {
        "id": "7vvZCLCRrZ-T"
      }
    },
    {
      "cell_type": "code",
      "source": [
        "from keras.preprocessing.image import ImageDataGenerator\n",
        "from skimage import io\n",
        "\n",
        "datagen = ImageDataGenerator(\n",
        "        rotation_range=45,     #Random rotation between 0 and 45\n",
        "        width_shift_range=0.2,   #% shift\n",
        "        height_shift_range=0.2,\n",
        "        shear_range=0.2,\n",
        "        zoom_range=0.2,\n",
        "        horizontal_flip=True,\n",
        "        vertical_flip=True,\n",
        "        fill_mode='reflect')    #Also try nearest, constant, reflect, wrap\n"
      ],
      "metadata": {
        "id": "qiuDKExvrnEG"
      },
      "execution_count": null,
      "outputs": []
    },
    {
      "cell_type": "markdown",
      "source": [
        "**Circle Augmentation**"
      ],
      "metadata": {
        "id": "pYkN1igV-OfA"
      }
    },
    {
      "cell_type": "code",
      "source": [
        "from IPython.core.display import display_pretty\n",
        "import numpy as np\n",
        "import os\n",
        "from PIL import Image\n",
        "\n",
        "dataset = []\n",
        "\n",
        "dir = \"/content/drive/MyDrive/BasicVisionEvaluation/Dataset_5/Dataset/Circle/\"\n",
        "aug_path = \"/content/drive/MyDrive/BasicVisionEvaluation/Dataset_5/Datasets/Circle/\"\n",
        "\n",
        "SIZE = 200\n",
        "\n",
        "dataset = []\n",
        "\n",
        "my_images = os.listdir(dir)\n",
        "\n",
        "for i, image_name in enumerate(my_images):\n",
        "    image = io.imread(dir + image_name)\n",
        "    image = Image.fromarray(image, 'RGB')\n",
        "    image = image.resize((SIZE,SIZE))\n",
        "    dataset.append(np.array(image))\n",
        "\n",
        "x = np.array(dataset)\n",
        "\n",
        "i = 0\n",
        "\n",
        "for batch in datagen.flow(x, batch_size=16,  \n",
        "                          save_to_dir=aug_path, \n",
        "                          save_prefix='Circle_', \n",
        "                          save_format='png'):\n",
        "    i += 1\n",
        "    if i > 50:\n",
        "        break  # otherwise the generator would loop indefinitely "
      ],
      "metadata": {
        "id": "l-czIVBXyVUp"
      },
      "execution_count": null,
      "outputs": []
    },
    {
      "cell_type": "code",
      "source": [
        "my_images = os.listdir(dir)\n",
        "len(my_images)"
      ],
      "metadata": {
        "colab": {
          "base_uri": "https://localhost:8080/"
        },
        "id": "g7AmQVjhEOMY",
        "outputId": "07f921a9-41f6-4d1b-db17-8226c8fa8b59"
      },
      "execution_count": null,
      "outputs": [
        {
          "output_type": "execute_result",
          "data": {
            "text/plain": [
              "83"
            ]
          },
          "metadata": {},
          "execution_count": 72
        }
      ]
    },
    {
      "cell_type": "code",
      "source": [
        "my_images = os.listdir(aug_path)\n",
        "len(my_images)"
      ],
      "metadata": {
        "colab": {
          "base_uri": "https://localhost:8080/"
        },
        "id": "PycqvVtqDxwR",
        "outputId": "31c9eba8-de25-4c52-9265-6c79c3201056"
      },
      "execution_count": null,
      "outputs": [
        {
          "output_type": "execute_result",
          "data": {
            "text/plain": [
              "11008"
            ]
          },
          "metadata": {},
          "execution_count": 73
        }
      ]
    },
    {
      "cell_type": "markdown",
      "source": [
        "**Square Aumentation**"
      ],
      "metadata": {
        "id": "AVxAP-hFDhfL"
      }
    },
    {
      "cell_type": "code",
      "source": [
        "import numpy as np\n",
        "import os\n",
        "from PIL import Image\n",
        "\n",
        "dataset = []\n",
        "\n",
        "dir = \"/content/drive/MyDrive/BasicVisionEvaluation/Dataset_5/Dataset/Cube/\"\n",
        "aug_path = \"/content/drive/MyDrive/BasicVisionEvaluation/Dataset_5/Datasets/Square/\"\n",
        "\n",
        "SIZE = 200\n",
        "\n",
        "dataset = []\n",
        "\n",
        "my_images = os.listdir(dir)\n",
        "\n",
        "for i, image_name in enumerate(my_images):\n",
        "    image = io.imread(dir + image_name)\n",
        "    image = Image.fromarray(image, 'RGB')\n",
        "    image = image.resize((SIZE,SIZE))\n",
        "    dataset.append(np.array(image))\n",
        "\n",
        "x = np.array(dataset)\n",
        "\n",
        "i = 0\n",
        "\n",
        "for batch in datagen.flow(x, batch_size=16,  \n",
        "                          save_to_dir=aug_path, \n",
        "                          save_prefix='Square', \n",
        "                          save_format='png'):\n",
        "    i += 1\n",
        "    if i > 50:\n",
        "        break  # otherwise the generator would loop indefinitely "
      ],
      "metadata": {
        "id": "H_ND_vKFDg7c"
      },
      "execution_count": null,
      "outputs": []
    },
    {
      "cell_type": "code",
      "source": [
        "my_images = os.listdir(dir)\n",
        "len(my_images)"
      ],
      "metadata": {
        "colab": {
          "base_uri": "https://localhost:8080/"
        },
        "id": "q2ZKHtQgEf3E",
        "outputId": "bea5a4f9-c4de-491f-f34a-6da7c3e189e0"
      },
      "execution_count": null,
      "outputs": [
        {
          "output_type": "execute_result",
          "data": {
            "text/plain": [
              "71"
            ]
          },
          "metadata": {},
          "execution_count": 77
        }
      ]
    },
    {
      "cell_type": "code",
      "source": [
        "my_images = os.listdir(aug_path)\n",
        "len(my_images)"
      ],
      "metadata": {
        "colab": {
          "base_uri": "https://localhost:8080/"
        },
        "id": "NNG0ePZ-Ej7y",
        "outputId": "5896b08a-4c96-4380-ae06-4db8a4cd0da3"
      },
      "execution_count": null,
      "outputs": [
        {
          "output_type": "execute_result",
          "data": {
            "text/plain": [
              "11026"
            ]
          },
          "metadata": {},
          "execution_count": 78
        }
      ]
    },
    {
      "cell_type": "markdown",
      "source": [
        "**5. Preprocessing Dataset 5 which contains 90000 images.**"
      ],
      "metadata": {
        "id": "a39cjZ1SpZlj"
      }
    },
    {
      "cell_type": "code",
      "source": [
        "folder = '/content/drive/MyDrive/BasicVisionEvaluation/Dataset_5/Dataset_5/'\n",
        "\n",
        "dataset_folder = \"/content/drive/MyDrive/BasicVisionEvaluation/Dataset_5/Datasets/\"\n",
        "\n",
        "for file in os.listdir(os.path.join(folder)):\n",
        "  class_label = file.split('_')[0]\n",
        "  class_folder = os.path.join(dataset_folder, '{}'.format(class_label))\n",
        "  os.makedirs(class_folder, exist_ok=True)\n",
        "  move(os.path.join(folder, file), os.path.join(class_folder, file))"
      ],
      "metadata": {
        "id": "DevyF-9noWE_"
      },
      "execution_count": null,
      "outputs": []
    },
    {
      "cell_type": "code",
      "source": [
        "import os\n",
        "dataset_folder = \"/content/drive/MyDrive/BasicVisionEvaluation/Dataset_5/Datasets/\"\n",
        "\n",
        "os.listdir(dataset_folder)"
      ],
      "metadata": {
        "id": "ZbQaPVujHBtQ"
      },
      "execution_count": null,
      "outputs": []
    },
    {
      "cell_type": "code",
      "source": [
        "len(os.listdir(dataset_folder+'Square'))"
      ],
      "metadata": {
        "colab": {
          "base_uri": "https://localhost:8080/"
        },
        "id": "xYvsmiYiOmTZ",
        "outputId": "a2b93658-e8f8-4c53-f135-ccc8b04e86ee"
      },
      "execution_count": null,
      "outputs": [
        {
          "output_type": "execute_result",
          "data": {
            "text/plain": [
              "11026"
            ]
          },
          "metadata": {},
          "execution_count": 79
        }
      ]
    },
    {
      "cell_type": "code",
      "source": [
        "len(os.listdir(dataset_folder+'Circle'))"
      ],
      "metadata": {
        "colab": {
          "base_uri": "https://localhost:8080/"
        },
        "id": "EKQsZl85PIWV",
        "outputId": "a9dea283-fd09-447d-c846-51845db1574f"
      },
      "execution_count": null,
      "outputs": [
        {
          "output_type": "execute_result",
          "data": {
            "text/plain": [
              "11008"
            ]
          },
          "metadata": {},
          "execution_count": 80
        }
      ]
    },
    {
      "cell_type": "code",
      "source": [
        "!pip install wandb"
      ],
      "metadata": {
        "id": "P95qfpffZSsR"
      },
      "execution_count": null,
      "outputs": []
    },
    {
      "cell_type": "code",
      "source": [
        "import wandb\n",
        "import numpy as np\n",
        "import tensorflow as tf\n",
        "from tensorflow import keras\n",
        "from tensorflow.keras.models import Sequential\n",
        "from tensorflow.keras.layers import Activation, Dense, Flatten, BatchNormalization, Conv2D, MaxPool2D\n",
        "from tensorflow.keras.optimizers import Adam\n",
        "from tensorflow.keras.metrics import categorical_crossentropy\n",
        "from tensorflow.keras.preprocessing.image import ImageDataGenerator\n",
        "from sklearn.metrics import confusion_matrix\n",
        "import itertools\n",
        "import os\n",
        "import shutil\n",
        "import random\n",
        "import glob\n",
        "import matplotlib.pyplot as plt\n",
        "import warnings"
      ],
      "metadata": {
        "id": "c1v9XTGX01Gs"
      },
      "execution_count": null,
      "outputs": []
    },
    {
      "cell_type": "markdown",
      "source": [
        "**6. Spliting Dataset**"
      ],
      "metadata": {
        "id": "z3hxpvXSZJLH"
      }
    },
    {
      "cell_type": "code",
      "source": [
        "!pip install split-folders"
      ],
      "metadata": {
        "id": "kfQXZFFbDay-",
        "colab": {
          "base_uri": "https://localhost:8080/"
        },
        "outputId": "3355d8be-f9de-4dae-e691-313cb52fb4b6"
      },
      "execution_count": null,
      "outputs": [
        {
          "output_type": "stream",
          "name": "stdout",
          "text": [
            "Collecting split-folders\n",
            "  Downloading split_folders-0.5.1-py3-none-any.whl (8.4 kB)\n",
            "Installing collected packages: split-folders\n",
            "Successfully installed split-folders-0.5.1\n"
          ]
        }
      ]
    },
    {
      "cell_type": "code",
      "source": [
        "import splitfolders\n",
        "\n",
        "input_folder = \"/content/drive/MyDrive/BasicVisionEvaluation/Dataset_5/Datasets\"\n",
        "output_folder = \"/content/drive/MyDrive/BasicVisionEvaluation/Dataset_5/tts_Datasets\"\n",
        "\n",
        "splitfolders.ratio(input_folder, output=output_folder,\n",
        "    seed=42, ratio=(.70, 0.1, .20), group_prefix=None, move=False) # default values"
      ],
      "metadata": {
        "colab": {
          "base_uri": "https://localhost:8080/"
        },
        "id": "K5_sucEn8beV",
        "outputId": "a3b8b7d6-eb06-4014-9055-a4aa61f4e7ce"
      },
      "execution_count": null,
      "outputs": [
        {
          "output_type": "stream",
          "name": "stderr",
          "text": [
            "Copying files: 82786 files [58:38, 23.53 files/s]\n"
          ]
        }
      ]
    },
    {
      "cell_type": "code",
      "source": [
        "len(os.listdir(\"/content/drive/MyDrive/BasicVisionEvaluation/Dataset_5/tts_Datasets/test/Circle\"))"
      ],
      "metadata": {
        "colab": {
          "base_uri": "https://localhost:8080/"
        },
        "id": "pKsz_zEAs1F4",
        "outputId": "22cf9e3b-1da4-485c-dec7-d53a89c80ded"
      },
      "execution_count": null,
      "outputs": [
        {
          "output_type": "execute_result",
          "data": {
            "text/plain": [
              "1897"
            ]
          },
          "metadata": {},
          "execution_count": 8
        }
      ]
    },
    {
      "cell_type": "code",
      "source": [
        "image_size = (200,200)\n",
        "train_path = '/content/drive/MyDrive/BasicVisionEvaluation/Dataset_5/tts_Datasets/train/'\n",
        "val_path = '/content/drive/MyDrive/BasicVisionEvaluation/Dataset_5/tts_Datasets/val/'\n",
        "test_path = '/content/drive/MyDrive/BasicVisionEvaluation/Dataset_5/tts_Datasets/test/'"
      ],
      "metadata": {
        "id": "YdGVWTeOyXTb"
      },
      "execution_count": null,
      "outputs": []
    },
    {
      "cell_type": "code",
      "source": [
        "classes = os.listdir(train_path)\n",
        "classes.sort()\n",
        "classes"
      ],
      "metadata": {
        "colab": {
          "base_uri": "https://localhost:8080/"
        },
        "id": "4031n1UEynwY",
        "outputId": "e0fad868-ed25-49d2-ec5c-56d8594a5ee8"
      },
      "execution_count": null,
      "outputs": [
        {
          "output_type": "execute_result",
          "data": {
            "text/plain": [
              "['Circle',\n",
              " 'Heptagon',\n",
              " 'Hexagon',\n",
              " 'Nonagon',\n",
              " 'Octagon',\n",
              " 'Pentagon',\n",
              " 'Square',\n",
              " 'Star',\n",
              " 'Triangle']"
            ]
          },
          "metadata": {},
          "execution_count": 7
        }
      ]
    },
    {
      "cell_type": "code",
      "source": [
        "train_batches = ImageDataGenerator(\n",
        "    preprocessing_function=tf.keras.applications.vgg16.preprocess_input) \\\n",
        "    .flow_from_directory(\n",
        "        directory=train_path,\n",
        "        target_size=image_size,\n",
        "        classes=classes, batch_size=8)"
      ],
      "metadata": {
        "colab": {
          "base_uri": "https://localhost:8080/"
        },
        "id": "fanjnwsQx4r1",
        "outputId": "f5ed8621-0c43-4c7b-b2fd-c3899b5faa1b"
      },
      "execution_count": null,
      "outputs": [
        {
          "output_type": "stream",
          "name": "stdout",
          "text": [
            "Found 57946 images belonging to 9 classes.\n"
          ]
        }
      ]
    },
    {
      "cell_type": "code",
      "source": [
        "valid_batches = ImageDataGenerator(\n",
        "    preprocessing_function=tf.keras.applications.vgg16.preprocess_input) \\\n",
        "    .flow_from_directory(\n",
        "        directory=val_path,\n",
        "        target_size=image_size,\n",
        "        classes=classes,\n",
        "        batch_size=8)"
      ],
      "metadata": {
        "colab": {
          "base_uri": "https://localhost:8080/"
        },
        "id": "IuyCQgaktLQ0",
        "outputId": "7dee5afb-1679-4d06-94c8-fe269e74b576"
      },
      "execution_count": null,
      "outputs": [
        {
          "output_type": "stream",
          "name": "stdout",
          "text": [
            "Found 8275 images belonging to 9 classes.\n"
          ]
        }
      ]
    },
    {
      "cell_type": "code",
      "source": [
        "test_batches = ImageDataGenerator(\n",
        "    preprocessing_function=tf.keras.applications.vgg16.preprocess_input) \\\n",
        "    .flow_from_directory(\n",
        "        directory=test_path, \n",
        "        target_size=image_size, \n",
        "        classes=classes, \n",
        "        batch_size=8, \n",
        "        shuffle=False)"
      ],
      "metadata": {
        "colab": {
          "base_uri": "https://localhost:8080/"
        },
        "id": "UA5M_sBMtLAj",
        "outputId": "99bd3284-97e5-4898-82ee-87b6dc7ee2a8"
      },
      "execution_count": null,
      "outputs": [
        {
          "output_type": "stream",
          "name": "stdout",
          "text": [
            "Found 16565 images belonging to 9 classes.\n"
          ]
        }
      ]
    },
    {
      "cell_type": "markdown",
      "source": [
        "# **Creating Model**"
      ],
      "metadata": {
        "id": "dc_JKqZC1yJs"
      }
    },
    {
      "cell_type": "code",
      "source": [
        "from tensorflow.keras.applications.resnet50 import ResNet50\n",
        "\n",
        "base_model = ResNet50(include_top=False, weights=\"imagenet\")"
      ],
      "metadata": {
        "id": "9H9ukvt9utue",
        "colab": {
          "base_uri": "https://localhost:8080/"
        },
        "outputId": "72a28e79-7db0-4b0d-a2f1-81335dad5111"
      },
      "execution_count": null,
      "outputs": [
        {
          "output_type": "stream",
          "name": "stdout",
          "text": [
            "Downloading data from https://storage.googleapis.com/tensorflow/keras-applications/resnet/resnet50_weights_tf_dim_ordering_tf_kernels_notop.h5\n",
            "94773248/94765736 [==============================] - 0s 0us/step\n",
            "94781440/94765736 [==============================] - 0s 0us/step\n"
          ]
        }
      ]
    },
    {
      "cell_type": "markdown",
      "source": [
        "**Adding Layers**"
      ],
      "metadata": {
        "id": "WtqgfN1l3DhM"
      }
    },
    {
      "cell_type": "code",
      "source": [
        "from tensorflow.keras.layers import Dense, GlobalAveragePooling2D\n",
        "\n",
        "x = base_model.output\n",
        "x = GlobalAveragePooling2D()(x)\n",
        "x = Dense(1024, activation=\"relu\")(x)"
      ],
      "metadata": {
        "id": "dklNty7jvDX9"
      },
      "execution_count": null,
      "outputs": []
    },
    {
      "cell_type": "code",
      "source": [
        "train_batches.num_classes"
      ],
      "metadata": {
        "colab": {
          "base_uri": "https://localhost:8080/"
        },
        "id": "XNk0M5Sjvi35",
        "outputId": "aeef6a64-81c7-4952-d882-cf4c07853056"
      },
      "execution_count": null,
      "outputs": [
        {
          "output_type": "execute_result",
          "data": {
            "text/plain": [
              "9"
            ]
          },
          "metadata": {},
          "execution_count": 12
        }
      ]
    },
    {
      "cell_type": "code",
      "source": [
        "from tensorflow.keras.models import Sequential, Model\n",
        "\n",
        "predictions = Dense(train_batches.num_classes, activation=\"softmax\")(x)\n",
        "model = Model(inputs=base_model.input, outputs=predictions)"
      ],
      "metadata": {
        "id": "vcHWDn2ovMox"
      },
      "execution_count": null,
      "outputs": []
    },
    {
      "cell_type": "markdown",
      "source": [
        "**Making All the Layers in ResNet50 Untrainable**"
      ],
      "metadata": {
        "id": "8tBxIoNU3qKr"
      }
    },
    {
      "cell_type": "code",
      "source": [
        "for layer in base_model.layers:\n",
        "    layer.trainable = False"
      ],
      "metadata": {
        "id": "XiqTMUjpwOqk"
      },
      "execution_count": null,
      "outputs": []
    },
    {
      "cell_type": "code",
      "source": [
        "base_model.summary()"
      ],
      "metadata": {
        "id": "YFoD1BZWx4cQ"
      },
      "execution_count": null,
      "outputs": []
    },
    {
      "cell_type": "code",
      "source": [
        "model.compile(optimizer='adam', loss='categorical_crossentropy', metrics=['accuracy'])\n"
      ],
      "metadata": {
        "id": "hbWVG_-6x4L-"
      },
      "execution_count": null,
      "outputs": []
    },
    {
      "cell_type": "code",
      "source": [
        "tf.__version__"
      ],
      "metadata": {
        "colab": {
          "base_uri": "https://localhost:8080/",
          "height": 35
        },
        "id": "H8VvEfiX74Ts",
        "outputId": "d107a836-a150-45de-d946-b9ebac8f5bd5"
      },
      "execution_count": null,
      "outputs": [
        {
          "output_type": "execute_result",
          "data": {
            "text/plain": [
              "'2.8.0'"
            ],
            "application/vnd.google.colaboratory.intrinsic+json": {
              "type": "string"
            }
          },
          "metadata": {},
          "execution_count": 25
        }
      ]
    },
    {
      "cell_type": "code",
      "source": [
        "%tensorflow_version 2.x\n",
        "import tensorflow as tf\n",
        "\n",
        "device_name = tf.test.gpu_device_name()\n",
        "\n",
        "if device_name != '/device:GPU:0':\n",
        "  raise SystemError('GPU device not found')\n",
        "print('Found GPU at: {}'.format(device_name))"
      ],
      "metadata": {
        "colab": {
          "base_uri": "https://localhost:8080/"
        },
        "id": "Bgpu-xQU-Hsl",
        "outputId": "8bef9da5-2b63-4e8b-8aea-3b8ab4abed9b"
      },
      "execution_count": null,
      "outputs": [
        {
          "output_type": "stream",
          "name": "stdout",
          "text": [
            "Found GPU at: /device:GPU:0\n"
          ]
        }
      ]
    },
    {
      "cell_type": "code",
      "source": [
        "import wandb\n",
        "from wandb.keras import WandbCallback\n",
        "\n",
        "wandb.init(config={\"hyper\": \"parameter\"})\n",
        "\n",
        "with tf.device('/device:GPU:0'):\n",
        "  history = model.fit(train_batches,\n",
        "                      validation_data=valid_batches,\n",
        "                      epochs=10,callbacks=[WandbCallback()])"
      ],
      "metadata": {
        "id": "g2ynpECFq0h5",
        "colab": {
          "base_uri": "https://localhost:8080/",
          "height": 622,
          "referenced_widgets": [
            "79f13a1c714045fc92e591c70905f672",
            "8f09a92bf93b4745bae984d9c22acdb8",
            "d20946eba0e94b2690d61b094ca75185",
            "5ced664925374030a4a1ba5042a27b2f",
            "2518a20e23ab4599b431c27130a088f7",
            "1d6f8abee4364ceab2fd6683b0c2543c",
            "c72d07157ac44bd6a26edc6c84c09499",
            "48f3ae94919b426a8fa1166547ffc212"
          ]
        },
        "outputId": "038bd12a-2d73-4ddc-9332-06831b9467a2"
      },
      "execution_count": null,
      "outputs": [
        {
          "data": {
            "text/html": [
              "Finishing last run (ID:1baltj4y) before initializing another..."
            ],
            "text/plain": [
              "<IPython.core.display.HTML object>"
            ]
          },
          "metadata": {},
          "output_type": "display_data"
        },
        {
          "metadata": {
            "tags": null
          },
          "name": "stdout",
          "output_type": "stream",
          "text": [
            "\n"
          ]
        },
        {
          "data": {
            "text/html": [
              "Waiting for W&B process to finish... <strong style=\"color:green\">(success).</strong>"
            ],
            "text/plain": [
              "<IPython.core.display.HTML object>"
            ]
          },
          "metadata": {},
          "output_type": "display_data"
        },
        {
          "data": {
            "application/vnd.jupyter.widget-view+json": {
              "model_id": "79f13a1c714045fc92e591c70905f672",
              "version_major": 2,
              "version_minor": 0
            },
            "text/plain": [
              "VBox(children=(Label(value='0.001 MB of 0.001 MB uploaded (0.000 MB deduped)\\r'), FloatProgress(value=1.0, max…"
            ]
          },
          "metadata": {},
          "output_type": "display_data"
        },
        {
          "data": {
            "text/html": [
              "Synced <strong style=\"color:#cdcd00\">peachy-water-11</strong>: <a href=\"https://wandb.ai/apurvtaneja/uncategorized/runs/1baltj4y\" target=\"_blank\">https://wandb.ai/apurvtaneja/uncategorized/runs/1baltj4y</a><br/>Synced 5 W&B file(s), 0 media file(s), 0 artifact file(s) and 0 other file(s)"
            ],
            "text/plain": [
              "<IPython.core.display.HTML object>"
            ]
          },
          "metadata": {},
          "output_type": "display_data"
        },
        {
          "data": {
            "text/html": [
              "Find logs at: <code>./wandb/run-20220321_214702-1baltj4y/logs</code>"
            ],
            "text/plain": [
              "<IPython.core.display.HTML object>"
            ]
          },
          "metadata": {},
          "output_type": "display_data"
        },
        {
          "data": {
            "text/html": [
              "Successfully finished last run (ID:1baltj4y). Initializing new run:<br/>"
            ],
            "text/plain": [
              "<IPython.core.display.HTML object>"
            ]
          },
          "metadata": {},
          "output_type": "display_data"
        },
        {
          "data": {
            "text/html": [
              "Tracking run with wandb version 0.12.11"
            ],
            "text/plain": [
              "<IPython.core.display.HTML object>"
            ]
          },
          "metadata": {},
          "output_type": "display_data"
        },
        {
          "data": {
            "text/html": [
              "Run data is saved locally in <code>/content/wandb/run-20220321_223205-1pm67gxh</code>"
            ],
            "text/plain": [
              "<IPython.core.display.HTML object>"
            ]
          },
          "metadata": {},
          "output_type": "display_data"
        },
        {
          "data": {
            "text/html": [
              "Syncing run <strong><a href=\"https://wandb.ai/apurvtaneja/uncategorized/runs/1pm67gxh\" target=\"_blank\">vivid-capybara-12</a></strong> to <a href=\"https://wandb.ai/apurvtaneja/uncategorized\" target=\"_blank\">Weights & Biases</a> (<a href=\"https://wandb.me/run\" target=\"_blank\">docs</a>)<br/>"
            ],
            "text/plain": [
              "<IPython.core.display.HTML object>"
            ]
          },
          "metadata": {},
          "output_type": "display_data"
        },
        {
          "output_type": "stream",
          "name": "stdout",
          "text": [
            "Epoch 1/10\n",
            "7244/7244 [==============================] - 948s 131ms/step - loss: 0.2088 - accuracy: 0.9144 - val_loss: 0.1956 - val_accuracy: 0.9211 - _timestamp: 1647902883.0000 - _runtime: 954.0000\n",
            "Epoch 2/10\n",
            "7244/7244 [==============================] - 315s 43ms/step - loss: 0.1787 - accuracy: 0.9246 - val_loss: 0.2520 - val_accuracy: 0.8980 - _timestamp: 1647903198.0000 - _runtime: 1269.0000\n",
            "Epoch 3/10\n",
            "7244/7244 [==============================] - 312s 43ms/step - loss: 0.1589 - accuracy: 0.9351 - val_loss: 0.1585 - val_accuracy: 0.9356 - _timestamp: 1647903510.0000 - _runtime: 1581.0000\n",
            "Epoch 4/10\n",
            "7244/7244 [==============================] - 316s 44ms/step - loss: 0.1460 - accuracy: 0.9409 - val_loss: 0.1571 - val_accuracy: 0.9341 - _timestamp: 1647903826.0000 - _runtime: 1897.0000\n",
            "Epoch 5/10\n",
            "7244/7244 [==============================] - 315s 43ms/step - loss: 0.1353 - accuracy: 0.9449 - val_loss: 0.1507 - val_accuracy: 0.9428 - _timestamp: 1647904141.0000 - _runtime: 2212.0000\n",
            "Epoch 6/10\n",
            "7244/7244 [==============================] - 316s 44ms/step - loss: 0.1275 - accuracy: 0.9481 - val_loss: 0.1384 - val_accuracy: 0.9440 - _timestamp: 1647904457.0000 - _runtime: 2528.0000\n",
            "Epoch 7/10\n",
            "7244/7244 [==============================] - 325s 45ms/step - loss: 0.1173 - accuracy: 0.9526 - val_loss: 0.1856 - val_accuracy: 0.9298 - _timestamp: 1647904782.0000 - _runtime: 2853.0000\n",
            "Epoch 8/10\n",
            "7244/7244 [==============================] - 334s 46ms/step - loss: 0.1137 - accuracy: 0.9535 - val_loss: 0.1520 - val_accuracy: 0.9439 - _timestamp: 1647905116.0000 - _runtime: 3187.0000\n",
            "Epoch 9/10\n",
            "7244/7244 [==============================] - 323s 45ms/step - loss: 0.1099 - accuracy: 0.9562 - val_loss: 0.1475 - val_accuracy: 0.9434 - _timestamp: 1647905440.0000 - _runtime: 3511.0000\n",
            "Epoch 10/10\n",
            "7244/7244 [==============================] - 319s 44ms/step - loss: 0.1024 - accuracy: 0.9595 - val_loss: 0.1536 - val_accuracy: 0.9418 - _timestamp: 1647905759.0000 - _runtime: 3830.0000\n"
          ]
        }
      ]
    },
    {
      "cell_type": "code",
      "source": [
        "model.save('/content/drive/MyDrive/BasicVisionEvaluation/Shapes2dResnet50.h5')"
      ],
      "metadata": {
        "id": "xuSZRwwbHh9d"
      },
      "execution_count": null,
      "outputs": []
    },
    {
      "cell_type": "code",
      "source": [
        "model = tf.keras.models.load_model(\"/content/drive/MyDrive/BasicVisionEvaluation/Shapes2dResnet50.h5\")\n"
      ],
      "metadata": {
        "id": "I1WWmf6U5p3m"
      },
      "execution_count": null,
      "outputs": []
    },
    {
      "cell_type": "code",
      "source": [
        "print(model.evaluate(x=test_batches))"
      ],
      "metadata": {
        "colab": {
          "base_uri": "https://localhost:8080/"
        },
        "id": "ylpTIzdZMyjP",
        "outputId": "28d9435c-aded-4223-90dc-dc1b41843320"
      },
      "execution_count": 11,
      "outputs": [
        {
          "output_type": "stream",
          "name": "stdout",
          "text": [
            "2071/2071 [==============================] - 9600s 5s/step - loss: 0.1640 - accuracy: 0.9410\n",
            "[0.16397270560264587, 0.9410202503204346]\n"
          ]
        }
      ]
    },
    {
      "cell_type": "code",
      "source": [
        "predictions = model.predict(test_batches)"
      ],
      "metadata": {
        "id": "oS6vehrjM8B3"
      },
      "execution_count": null,
      "outputs": []
    }
  ]
}